{
 "cells": [
  {
   "cell_type": "markdown",
   "metadata": {},
   "source": [
    "# Human-mapping"
   ]
  },
  {
   "cell_type": "code",
   "execution_count": null,
   "metadata": {},
   "outputs": [],
   "source": [
    "import pandas as pd\n",
    "import re\n",
    "from nltk.tokenize import RegexpTokenizer\n",
    "from tqdm import tqdm_notebook as tq"
   ]
  },
  {
   "cell_type": "code",
   "execution_count": null,
   "metadata": {},
   "outputs": [],
   "source": [
    "tokenizer = RegexpTokenizer(r'\\w+')"
   ]
  },
  {
   "cell_type": "markdown",
   "metadata": {},
   "source": [
    "### Mapping family name"
   ]
  },
  {
   "cell_type": "code",
   "execution_count": null,
   "metadata": {},
   "outputs": [],
   "source": [
    "file_askp = pd.read_csv('askp.csv', sep=';', encoding = 'utf-8', error_bad_lines=False, low_memory=False)\n",
    "\n",
    "file_sap = pd.read_csv('sap.csv', sep=';', encoding = 'utf-8', error_bad_lines=False, low_memory=False)"
   ]
  },
  {
   "cell_type": "code",
   "execution_count": null,
   "metadata": {},
   "outputs": [],
   "source": [
    "askp = file_askp.values\n",
    "sap = file_sap.values"
   ]
  },
  {
   "cell_type": "code",
   "execution_count": null,
   "metadata": {},
   "outputs": [],
   "source": [
    "def preproc(s):\n",
    "    \"\"\"\n",
    "    Function to preprocessing text data\n",
    "    \"\"\"\n",
    "    s = s.lower().replace('ё', 'е')\n",
    "    s = re.sub(r'\\d+', '', s)\n",
    "    s = re.sub(r'\\W', ' ', s)\n",
    "    s = tokenizer.tokenize(s)\n",
    "    return s"
   ]
  },
  {
   "cell_type": "code",
   "execution_count": null,
   "metadata": {},
   "outputs": [],
   "source": [
    "askp = [preproc(i[0]) for i in askp]\n",
    "sap = [preproc(i[0]) for i in sap]"
   ]
  },
  {
   "cell_type": "code",
   "execution_count": null,
   "metadata": {},
   "outputs": [],
   "source": [
    "def distance(a, b):\n",
    "    \"Calculates the Levenshtein distance between a and b.\"\n",
    "    n, m = len(a), len(b)\n",
    "    if n > m:\n",
    "        # Make sure n <= m, to use O(min(n,m)) space\n",
    "        a, b = b, a\n",
    "        n, m = m, n\n",
    "    current_row = range(n+1) # Keep current and previous row, not entire matrix\n",
    "    for i in range(1, m+1):\n",
    "        previous_row, current_row = current_row, [i]+[0]*n\n",
    "        for j in range(1,n+1):\n",
    "            add, delete, change = previous_row[j]+1, current_row[j-1]+1, previous_row[j-1]\n",
    "            if a[j-1] != b[i-1]:\n",
    "                change += 1\n",
    "            current_row[j] = min(add, delete, change)\n",
    "    return current_row[n]"
   ]
  },
  {
   "cell_type": "code",
   "execution_count": null,
   "metadata": {},
   "outputs": [],
   "source": [
    "for i in tq(askp):\n",
    "    for j in sap:\n",
    "        try:\n",
    "            if distance(i[0], j[0]) < 2: \n",
    "                if (distance(i[1], j[1]) < 2 or i[1] in j[1] or j[1] in i[1]):\n",
    "                    if (distance(i[2], j[2]) < 2 or i[2] in j[2] or j[2] in i[2]):\n",
    "                        with open('result.txt', 'a') as f:\n",
    "                            f.write('{}-----{}'.format(i,j)+'\\n')\n",
    "        except IndexError:\n",
    "            with open('result.txt', 'a') as f:\n",
    "                f.write('{}-----{}'.format(i,j)+'\\n')"
   ]
  },
  {
   "cell_type": "markdown",
   "metadata": {},
   "source": [
    "### Mapping family name with route"
   ]
  },
  {
   "cell_type": "code",
   "execution_count": null,
   "metadata": {},
   "outputs": [],
   "source": [
    "file_sap = pd.read_csv('askp_route.csv', sep=';', encoding = 'utf-8', error_bad_lines=False, low_memory=False)\n",
    "\n",
    "file_askp = pd.read_csv('sap_route.csv', sep=';', encoding = 'utf-8', error_bad_lines=False, low_memory=False)"
   ]
  },
  {
   "cell_type": "code",
   "execution_count": null,
   "metadata": {},
   "outputs": [],
   "source": [
    "askp_route = file_askp.values.tolist()\n",
    "sap_route = file_sap.values.tolist()"
   ]
  },
  {
   "cell_type": "markdown",
   "metadata": {},
   "source": [
    "#### Preporation sap-set"
   ]
  },
  {
   "cell_type": "code",
   "execution_count": null,
   "metadata": {},
   "outputs": [],
   "source": [
    "for i in tq(sap_route):\n",
    "    for j in sap_route:\n",
    "        if i[2].isspace():\n",
    "            name_i = preproc(i[1])\n",
    "            name_j = preproc(j[1])\n",
    "            if distance(name_i[0], name_j[0]) < 2 and not j[2].isspace():\n",
    "                try:\n",
    "                    if distance(name_i[1], name_j[1]) < 2 and distance(name_i[2], name_j[2]) < 2: \n",
    "                        ind = sap_route.index(i)\n",
    "                        sap_route[ind].append(j[2])\n",
    "                    if ((len(name_i[1]) == 1 or len(name_j[1]) == 1) and name_i[1][0] == name_j[1][0]) and ((len(name_i[2]) == 1 or len(name_j[2]) == 1) and name_i[2][0] == name_j[2][0]):\n",
    "                        ind = sap_route.index(i)\n",
    "                        sap_route[ind].append(j[2])\n",
    "                \n",
    "                except IndexError:\n",
    "                    ind = sap_route.index(i)\n",
    "                    sap_route[ind].append(j[2])"
   ]
  },
  {
   "cell_type": "markdown",
   "metadata": {},
   "source": [
    "#### Mapping two data-sets"
   ]
  },
  {
   "cell_type": "code",
   "execution_count": null,
   "metadata": {},
   "outputs": [],
   "source": [
    "sap_buf =[i for i in sap_route]"
   ]
  },
  {
   "cell_type": "code",
   "execution_count": null,
   "metadata": {},
   "outputs": [],
   "source": [
    "results = []\n",
    "for i in sap_buf:\n",
    "    flag = False\n",
    "    for j in askp_route:\n",
    "        if not i[2].isspace():\n",
    "                if i[2] == j[2].strip():\n",
    "                    name_i = preproc(i[1])\n",
    "                    name_j = preproc(j[1])\n",
    "                    if distance(name_i[0], name_j[0]) < 2:\n",
    "                        try:\n",
    "                            if distance(name_i[1], name_j[1]) < 3:\n",
    "                                if distance(name_i[2], name_j[2]) < 4:\n",
    "                                    results.append(i+j)\n",
    "                                    print(results[-1])\n",
    "                                    flag = True\n",
    "                            if ((len(name_i[1]) == 1 or len(name_j[1]) == 1) and name_i[1][0] == name_j[1][0]):\n",
    "                                if ((len(name_i[2]) == 1 or len(name_j[2]) == 1) and name_i[2][0] == name_j[2][0]):\n",
    "                                    results.append(i+j)\n",
    "                                    print(results[-1])\n",
    "                                    flag = True\n",
    "                \n",
    "                        except IndexError:\n",
    "                            results.append(i+j)\n",
    "                            print(results[-1])\n",
    "                            flag = True\n",
    "        else:\n",
    "            name_i = preproc(i[1])\n",
    "            name_j = preproc(j[1])\n",
    "            if distance(name_i[0], name_j[0]) < 2 and j[2] not in i[2:]:\n",
    "                try:\n",
    "                    if distance(name_i[1], name_j[1]) < 3:\n",
    "                        if distance(name_i[2], name_j[2]) < 4:\n",
    "                            routs = '/'.join(i[2:])\n",
    "                            results.append(i[:2]+[routs]+j)\n",
    "                            print(results[-1])\n",
    "                            flag = True\n",
    "                    if ((len(name_i[1]) == 1 or len(name_j[1]) == 1) and name_i[1][0] == name_j[1][0]):\n",
    "                        if ((len(name_i[2]) == 1 or len(name_j[2]) == 1) and name_i[2][0] == name_j[2][0]):\n",
    "                            routs = '/'.join(i[2:])\n",
    "                            results.append(i[:2]+[routs]+j)\n",
    "                            print(results[-1])\n",
    "                            flag = True\n",
    "                except IndexError:\n",
    "                    routs = '/'.join(i[2:])\n",
    "                    results.append(i[:2]+[routs]+j)\n",
    "                    print(results[-1])\n",
    "                    flag = True\n",
    "    if not flag:\n",
    "        name_i = preproc(i[1])\n",
    "        name_j = preproc(j[1])\n",
    "        if distance(name_i[0], name_j[0]) < 2:\n",
    "            try:\n",
    "                if distance(name_i[1], name_j[1]) < 3:\n",
    "                    if distance(name_i[2], name_j[2]) < 4:\n",
    "                        if len(i)>3:\n",
    "                            routs = '/'.join(i[2:])\n",
    "                            results.append(i[:2]+[routs]+j)\n",
    "                            print(results[-1])\n",
    "                        else:\n",
    "                            results.append(i+j)\n",
    "                            print(results[-1])\n",
    "                        flag = True\n",
    "                if ((len(name_i[1]) == 1 or len(name_j[1]) == 1) and name_i[1][0] == name_j[1][0]):\n",
    "                    if ((len(name_i[2]) == 1 or len(name_j[2]) == 1) and name_i[2][0] == name_j[2][0]):\n",
    "                        if len(i)>3:\n",
    "                            routs = '/'.join(i[2:])\n",
    "                            results.append(i[:2]+[routs]+j)\n",
    "                            print(results[-1])\n",
    "                        else:\n",
    "                            results.append(i+j)\n",
    "                            print(results[-1])\n",
    "                        flag = True\n",
    "            except IndexError:\n",
    "                if len(i)>3:\n",
    "                    routs = '/'.join(i[2:])\n",
    "                    results.append(i[:2]+[routs]+j)\n",
    "                    print(results[-1])\n",
    "                else:\n",
    "                    results.append(i+j)\n",
    "                    print(results[-1])\n",
    "                flag = True\n",
    "    if not flag:\n",
    "        if len(i)>3:\n",
    "            routs = '/'.join(i[2:])\n",
    "            results.append(i[:2]+[routs]+['None', 'None', 'None'])\n",
    "            print(results[-1])\n",
    "        else:\n",
    "            results.append(i+['None', 'None', 'None'])\n",
    "            print(results[-1])"
   ]
  },
  {
   "cell_type": "code",
   "execution_count": null,
   "metadata": {},
   "outputs": [],
   "source": [
    "df = pd.DataFrame({\n",
    "    'id sap':[i[0] for i in results],\n",
    "    'name sap': [i[1] for i in results],\n",
    "    'sap route': [i[2] for i in results],\n",
    "    'id askp': [i[3] for i in results],\n",
    "    'name askp': [i[4] for i in results],\n",
    "    'askp route': [i[5] for i in results]\n",
    "})"
   ]
  },
  {
   "cell_type": "code",
   "execution_count": null,
   "metadata": {},
   "outputs": [],
   "source": [
    "writer = pd.ExcelWriter(r'output.xlsx')\n",
    "df.to_excel(writer)\n",
    "writer.save()"
   ]
  },
  {
   "cell_type": "code",
   "execution_count": null,
   "metadata": {},
   "outputs": [],
   "source": [
    "askp_in = []\n",
    "for i in results:\n",
    "    if type(i[3]) is not str:\n",
    "        askp_in.append(i[3])"
   ]
  },
  {
   "cell_type": "code",
   "execution_count": null,
   "metadata": {},
   "outputs": [],
   "source": [
    "askp_exception = []\n",
    "for i in askp_route:\n",
    "    if i[0] not in askp_in:\n",
    "        askp_exception.append(i)"
   ]
  },
  {
   "cell_type": "code",
   "execution_count": null,
   "metadata": {},
   "outputs": [],
   "source": [
    "df1 = pd.DataFrame({\n",
    "    'id askp':[i[0] for i in askp_exception],\n",
    "    'name askp': [i[1] for i in askp_exception],\n",
    "    'askp route': [i[2] for i in askp_exception]\n",
    "})\n",
    "\n",
    "writer = pd.ExcelWriter(r'output_askp.xlsx')\n",
    "df1.to_excel(writer)\n",
    "writer.save()"
   ]
  },
  {
   "cell_type": "code",
   "execution_count": null,
   "metadata": {},
   "outputs": [],
   "source": []
  }
 ],
 "metadata": {
  "kernelspec": {
   "display_name": "Python 3",
   "language": "python",
   "name": "python3"
  },
  "language_info": {
   "codemirror_mode": {
    "name": "ipython",
    "version": 3
   },
   "file_extension": ".py",
   "mimetype": "text/x-python",
   "name": "python",
   "nbconvert_exporter": "python",
   "pygments_lexer": "ipython3",
   "version": "3.6.7"
  }
 },
 "nbformat": 4,
 "nbformat_minor": 2
}
